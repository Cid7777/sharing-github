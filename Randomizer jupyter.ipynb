{
 "cells": [
  {
   "cell_type": "code",
   "execution_count": 7,
   "metadata": {},
   "outputs": [],
   "source": [
    "#Function for adding, dropping, changing, and generating \n",
    "#variables\n",
    "#list of restaurant for each area\n",
    "#"
   ]
  },
  {
   "cell_type": "code",
   "execution_count": 1,
   "metadata": {},
   "outputs": [],
   "source": [
    "from random import shuffle\n",
    "import time\n",
    "#Areas and Variables.\n",
    "#List of Restaurants\n",
    "rockhill = ['Cracker Barrel','El Manhattan','Charandas','McAlistars','Olive Garden','Buffalo Wild Wings','Hot Dog Depot',\"Sonny's\",\"Firehouse Subs\"]\n",
    "\n",
    "charlotte = [\"Chicken King\",\"Pho\",\"Cafe South\",\"Steel Creek Cafe\",\"Cookout\",\"Jasmine\"]\n",
    "\n",
    "custom = ['A','B']\n",
    "\n",
    "#Some basic Variables.\n",
    "adc = ''\n",
    "luffy = ['']\n",
    "loopcheck = True\n",
    "locations = {'Rock Hill':rockhill,'Charlotte':charlotte,'Custom':custom}\n",
    "areas = ['Rock Hill','Charlotte','Custom']"
   ]
  },
  {
   "cell_type": "code",
   "execution_count": 2,
   "metadata": {},
   "outputs": [],
   "source": [
    "#Functions that Alter lists. Probably could make a class?\n",
    "def nami(a):\n",
    "    add = ' '\n",
    "    while add in a:\n",
    "        add = input(\"Which restaurant do you want to add? \")\n",
    "    \n",
    "    return a.append(add)\n",
    "\n",
    "def usopp(a):\n",
    "    og = ''\n",
    "    add = ''\n",
    "    \n",
    "    while og not in a:\n",
    "        og = input(\"Which Restaurant do you want to change?\")\n",
    "    while add in a:\n",
    "        add = input(\"Which restaurant do you want to add?\")\n",
    "    \n",
    "    return a.append(add)\n",
    "    return a.remove(og)\n",
    "    \n",
    "    \n",
    "def robin(a):\n",
    "    drop = ''\n",
    "    while drop not in a:\n",
    "        drop = input(\"Which restaurant do you want to remove? \")\n",
    "        \n",
    "    return a.remove(drop)"
   ]
  },
  {
   "cell_type": "code",
   "execution_count": 3,
   "metadata": {},
   "outputs": [],
   "source": [
    "#Backbone of program. Defintely needs to be reevaluated.\n",
    "def sanji():\n",
    "    choice = ''\n",
    "    \n",
    "    while choice not in areas:\n",
    "        choice = input(f'Choose your destiny. {areas}')\n",
    "    \n",
    "        if choice == areas[0]:\n",
    "            return rockhill\n",
    "        elif choice == areas[1]:\n",
    "            return charlotte\n",
    "        elif choice == areas[2]:\n",
    "            return custom"
   ]
  },
  {
   "cell_type": "code",
   "execution_count": 4,
   "metadata": {},
   "outputs": [],
   "source": [
    "#Generate works fine.\n",
    "def chopper(a):\n",
    "    \n",
    "    shuffle(a)\n",
    "    print(\"Generating... \\n\\n\\t\")\n",
    "    time.sleep(4)\n",
    "    print('#############')\n",
    "    print(a[0])\n",
    "    print('#############')"
   ]
  },
  {
   "cell_type": "code",
   "execution_count": 5,
   "metadata": {
    "scrolled": true
   },
   "outputs": [
    {
     "name": "stdout",
     "output_type": "stream",
     "text": [
      "It's time for some RR! (Restaurant Randomization!\n",
      "\n",
      ")\n",
      "Choose your destiny. ['Rock Hill', 'Charlotte', 'Custom']Rock Hill\n",
      "['Cracker Barrel', 'El Manhattan', 'Charandas', 'McAlistars', 'Olive Garden', 'Buffalo Wild Wings', 'Hot Dog Depot', \"Sonny's\", 'Firehouse Subs']\n",
      "Do you want to 'Add', 'Drop', or 'Change' any restaurant. If not say NoNo\n",
      "Generating... \n",
      "\n",
      "\t\n",
      "#############\n",
      "Cracker Barrel\n",
      "#############\n"
     ]
    }
   ],
   "source": [
    "#Code Time\n",
    "print(\"It's time for some RR! (Restaurant Randomization!\\n\\n)\")\n",
    "\n",
    "luffy = sanji()\n",
    "\n",
    "print(luffy)\n",
    "\n",
    "\n",
    "while loopcheck == True:\n",
    "    zoro = ''\n",
    "    while not (zoro == 'Add' or zoro == 'Drop' or zoro == 'Change' or zoro == 'No'):\n",
    "        zoro = input(\"Do you want to 'Add', 'Drop', or 'Change' any restaurant. If not say No\")\n",
    "#Probably Need another while loop?        \n",
    "    \n",
    "\n",
    "    if zoro == \"Add\":\n",
    "        print(luffy)\n",
    "        nami(luffy)\n",
    "        continue\n",
    "    elif zoro == \"Drop\":\n",
    "        print(luffy)\n",
    "        robin(luffy)\n",
    "        continue\n",
    "    elif zoro == \"Change\":\n",
    "        print(luffy)\n",
    "        usopp(luffy)\n",
    "        continue\n",
    "    elif zoro == \"No\":\n",
    "        chopper(luffy)\n",
    "        break"
   ]
  },
  {
   "cell_type": "code",
   "execution_count": null,
   "metadata": {},
   "outputs": [],
   "source": []
  }
 ],
 "metadata": {
  "kernelspec": {
   "display_name": "Python 3",
   "language": "python",
   "name": "python3"
  },
  "language_info": {
   "codemirror_mode": {
    "name": "ipython",
    "version": 3
   },
   "file_extension": ".py",
   "mimetype": "text/x-python",
   "name": "python",
   "nbconvert_exporter": "python",
   "pygments_lexer": "ipython3",
   "version": "3.8.5"
  }
 },
 "nbformat": 4,
 "nbformat_minor": 4
}
