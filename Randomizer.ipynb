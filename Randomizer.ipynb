{
 "cells": [
  {
   "cell_type": "code",
   "execution_count": 40,
   "metadata": {
    "scrolled": true
   },
   "outputs": [
    {
     "name": "stdout",
     "output_type": "stream",
     "text": [
      "How may I help you today? Please type a command.\n",
      "ReStAuRaNt\n",
      "The restaurant for today is:\n",
      "Chicken King\n"
     ]
    }
   ],
   "source": [
    "#Randomizer for a restaurant! Give it a try!!\n",
    "import random\n",
    "\n",
    "\n",
    "command = str(input('How may I help you today? Please type a command.\\n'))\n",
    "errormsg = \"Sorry, I don't understand that command.\"\n",
    "foodtoday = 'The restaurant for today is:'\n",
    "winmsg = \"Today's Winner:\"\n",
    "\n",
    "rand = random.randint(1,7)\n",
    "rand2 = random.randint(1,7)\n",
    "\n",
    "foodopt = {1:\"Randall's Choice\",2:'Tasty Bowl',3:\"Chicken King\",4:\"Cafe South\",5:\"Steel Creek Cafe\",6:\"Garrett's Choice\"}\n",
    "\n",
    "\n",
    "if command.lower() == 'restaurant':\n",
    "    if rand == 1:\n",
    "        print(foodtoday)\n",
    "        print(foodopt[1])\n",
    "    elif rand == 2:\n",
    "        print(foodtoday)\n",
    "        print(foodopt[2])\n",
    "    elif rand == 3:\n",
    "        print(foodtoday)\n",
    "        print(foodopt[3])\n",
    "    elif rand == 4:\n",
    "        print(foodtoday)\n",
    "        print(foodopt[4])\n",
    "    elif rand == 5:\n",
    "        print(foodtoday)\n",
    "        print(foodopt[5])\n",
    "    elif rand == 6:\n",
    "        print(foodtoday)\n",
    "        print(foodopt[6])\n",
    "    else:\n",
    "        print(errormsg)\n",
    "else:\n",
    "    print(errormsg)\n",
    "    \n",
    "    \n",
    "#Chance for winning!\n",
    "\n",
    "if rand + rand2 == 2:\n",
    "    print(winmsg)\n",
    "    print('Randall won! Garrett pays for the whole meal!')\n",
    "elif rand + rand2 == 12:\n",
    "    print(winmsg)\n",
    "    print('Garrett won! Randall pays for the whole meal!')\n",
    "else:\n",
    "    print('No one won.')\n",
    "    "
   ]
  },
  {
   "cell_type": "code",
   "execution_count": null,
   "metadata": {},
   "outputs": [],
   "source": []
  }
 ],
 "metadata": {
  "kernelspec": {
   "display_name": "Python 3",
   "language": "python",
   "name": "python3"
  },
  "language_info": {
   "codemirror_mode": {
    "name": "ipython",
    "version": 3
   },
   "file_extension": ".py",
   "mimetype": "text/x-python",
   "name": "python",
   "nbconvert_exporter": "python",
   "pygments_lexer": "ipython3",
   "version": "3.8.5"
  }
 },
 "nbformat": 4,
 "nbformat_minor": 4
}
